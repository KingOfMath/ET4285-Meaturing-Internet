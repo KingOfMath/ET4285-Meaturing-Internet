{
 "cells": [
  {
   "cell_type": "code",
   "execution_count": 3,
   "metadata": {},
   "outputs": [],
   "source": [
    "import pandas as pd\n",
    "tcp_bbr = pd.read_csv(\"tcpbbr.txt\")"
   ]
  },
  {
   "cell_type": "code",
   "execution_count": 4,
   "metadata": {},
   "outputs": [
    {
     "data": {
      "text/plain": [
       "<bound method NDFrame.head of     Bytes_written    Bytes_read    Elapsed_time    start_time\n",
       "0       >100005    14444    -176.187    1.5914e+12           \n",
       "1      >100005    101453    -424.776    1.5914e+12           \n",
       "2       >100005    201453    597.495    1.5914e+12           \n",
       "3      >100005    301453    -384.249    1.5914e+12           \n",
       "4      >100005    401453    -211.832    1.5914e+12           \n",
       "..                                                 ...       \n",
       "662  >100005    65146829    -528.123    1.5914e+12           \n",
       "663   >100005    65246829    92.0129    1.5914e+12           \n",
       "664    >100005    65346829    504.96    1.5914e+12           \n",
       "665    >97275    65446829    -36.075    1.5914e+12           \n",
       "666      >-1    65546829    -532.564    1.5914e+12           \n",
       "\n",
       "[667 rows x 1 columns]>"
      ]
     },
     "execution_count": 4,
     "metadata": {},
     "output_type": "execute_result"
    }
   ],
   "source": [
    "tcp_bbr.head"
   ]
  },
  {
   "cell_type": "code",
   "execution_count": 18,
   "metadata": {},
   "outputs": [],
   "source": [
    "tcp_bbrServer = pd.read_csv(\"serverbbr.txt\",delim_whitespace=True)"
   ]
  },
  {
   "cell_type": "code",
   "execution_count": 19,
   "metadata": {},
   "outputs": [
    {
     "data": {
      "text/plain": [
       "<bound method NDFrame.head of        Bytes_written  Bytes_read  Elapsed_time    start_time\n",
       "0               1448        1448    -270.94200  1.591400e+12\n",
       "1               1448        2896       2.86084  1.591400e+12\n",
       "2               2896        5792       4.41382  1.591400e+12\n",
       "3               2896        8688      45.72410  1.591400e+12\n",
       "4               1448       10136      13.89110  1.591400e+12\n",
       "...              ...         ...           ...           ...\n",
       "29866           1436    66153284      50.33200  1.591400e+12\n",
       "29867           1436    66154720    -964.48800  1.591400e+12\n",
       "29868           1436    66156156      63.05200  1.591400e+12\n",
       "29869           1436    66157592     100.97700  1.591400e+12\n",
       "29870           1436    66159028      74.82810  1.591400e+12\n",
       "\n",
       "[29871 rows x 4 columns]>"
      ]
     },
     "execution_count": 19,
     "metadata": {},
     "output_type": "execute_result"
    }
   ],
   "source": [
    "tcp_bbrServer.head"
   ]
  },
  {
   "cell_type": "code",
   "execution_count": 20,
   "metadata": {},
   "outputs": [
    {
     "data": {
      "text/plain": [
       "<bound method NDFrame.keys of        Bytes_written  Bytes_read  Elapsed_time    start_time\n",
       "0               1448        1448    -270.94200  1.591400e+12\n",
       "1               1448        2896       2.86084  1.591400e+12\n",
       "2               2896        5792       4.41382  1.591400e+12\n",
       "3               2896        8688      45.72410  1.591400e+12\n",
       "4               1448       10136      13.89110  1.591400e+12\n",
       "...              ...         ...           ...           ...\n",
       "29866           1436    66153284      50.33200  1.591400e+12\n",
       "29867           1436    66154720    -964.48800  1.591400e+12\n",
       "29868           1436    66156156      63.05200  1.591400e+12\n",
       "29869           1436    66157592     100.97700  1.591400e+12\n",
       "29870           1436    66159028      74.82810  1.591400e+12\n",
       "\n",
       "[29871 rows x 4 columns]>"
      ]
     },
     "execution_count": 20,
     "metadata": {},
     "output_type": "execute_result"
    }
   ],
   "source": [
    "tcp_bbrServer.keys"
   ]
  },
  {
   "cell_type": "code",
   "execution_count": 23,
   "metadata": {},
   "outputs": [
    {
     "data": {
      "text/plain": [
       "0        1.591400e+12\n",
       "1        1.591400e+12\n",
       "2        1.591400e+12\n",
       "3        1.591400e+12\n",
       "4        1.591400e+12\n",
       "             ...     \n",
       "29866    1.591400e+12\n",
       "29867    1.591400e+12\n",
       "29868    1.591400e+12\n",
       "29869    1.591400e+12\n",
       "29870    1.591400e+12\n",
       "Name: start_time, Length: 29871, dtype: float64"
      ]
     },
     "execution_count": 23,
     "metadata": {},
     "output_type": "execute_result"
    }
   ],
   "source": [
    "tcp_bbrServer['start_time']"
   ]
  },
  {
   "cell_type": "markdown",
   "metadata": {},
   "source": [
    "## "
   ]
  }
 ],
 "metadata": {
  "kernelspec": {
   "display_name": "Python 3",
   "language": "python",
   "name": "python3"
  },
  "language_info": {
   "codemirror_mode": {
    "name": "ipython",
    "version": 3
   },
   "file_extension": ".py",
   "mimetype": "text/x-python",
   "name": "python",
   "nbconvert_exporter": "python",
   "pygments_lexer": "ipython3",
   "version": "3.7.3"
  }
 },
 "nbformat": 4,
 "nbformat_minor": 4
}
